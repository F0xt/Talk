{
  "nbformat": 4,
  "nbformat_minor": 0,
  "metadata": {
    "colab": {
      "provenance": [],
      "toc_visible": true,
      "authorship_tag": "ABX9TyNyn67aNK5o5P7p5oueFUvz"
    },
    "kernelspec": {
      "name": "python3",
      "display_name": "Python 3"
    },
    "language_info": {
      "name": "python"
    },
    "accelerator": "GPU",
    "gpuClass": "standard"
  },
  "cells": [
    {
      "cell_type": "code",
      "source": [
        "import subprocess\n",
        "\n",
        "# Installer le package whisper\n",
        "subprocess.call(['pip', 'install', 'git+https://github.com/openai/whisper.git'])\n",
        "\n",
        "# Mettre à jour la liste des paquets disponibles et installer ffmpeg\n",
        "subprocess.call(['sudo', 'apt', 'update'])\n",
        "subprocess.call(['sudo', 'apt', 'install', 'ffmpeg'])\n"
      ],
      "metadata": {
        "colab": {
          "base_uri": "https://localhost:8080/"
        },
        "id": "b9mrdW1KXWrf",
        "outputId": "c7fe52cd-688d-4edd-ead0-d99380077d04"
      },
      "execution_count": null,
      "outputs": [
        {
          "output_type": "execute_result",
          "data": {
            "text/plain": [
              "0"
            ]
          },
          "metadata": {},
          "execution_count": 9
        }
      ]
    },
    {
      "cell_type": "code",
      "source": [
        "subprocess.call(['whisper', 'Nom_fichier.extension', '--model', 'large'])"
      ],
      "metadata": {
        "id": "MV8P4VKOcgym"
      },
      "execution_count": null,
      "outputs": []
    }
  ]
}